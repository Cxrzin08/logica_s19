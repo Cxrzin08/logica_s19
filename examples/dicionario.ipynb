{
 "cells": [
  {
   "cell_type": "markdown",
   "metadata": {},
   "source": [
    "# Como usar Dicionários em Python\n",
    "\n",
    "## Introdução\n",
    "Dicionários em Python são estruturas de dados que armazenam pares chave-valor, permitindo acesso rápido a elementos através de suas chaves únicas.\n",
    "\n",
    "## Exemplos"
   ]
  },
  {
   "cell_type": "markdown",
   "metadata": {},
   "source": [
    "\n",
    "### Situação 1:\n",
    "Vamos estruturar a quantidades de carros Fiat vendidos em janeiro de 2024 em algumas cidades da região de Campinas."
   ]
  },
  {
   "cell_type": "code",
   "execution_count": null,
   "metadata": {},
   "outputs": [],
   "source": [
    "dados = {\n",
    "    \"Campinas\": 523,\n",
    "    \"Hortolândia\": 78,\n",
    "    \"Americana\": 107,\n",
    "    \"Indaiatuba\": 196\n",
    "}"
   ]
  },
  {
   "cell_type": "markdown",
   "metadata": {},
   "source": [
    "*Observe que estruturamos melhor o nosso código se comparado com uma lista.*"
   ]
  },
  {
   "cell_type": "code",
   "execution_count": null,
   "metadata": {},
   "outputs": [],
   "source": [
    "campinas = 523\n",
    "hortolandia = 78\n",
    "americana = 107\n",
    "indaiatuba = 196\n",
    "\n",
    "lista_vendas = [campinas, hortolandia, americana, indaiatuba]"
   ]
  },
  {
   "cell_type": "markdown",
   "metadata": {},
   "source": [
    "### Situação 2:\n",
    "Precisamos percorrer cada objeto da nossa estrutura para exibir o número de vendas de carros Fiat.\n",
    "\n",
    "Para percorrer entre cada `chave` usamos o `for` e para acessar cada `valor` usamos a `chave`.\n",
    "\n",
    "**Exemplo:** `valor = dicionario_cidades[chave]`"
   ]
  },
  {
   "cell_type": "code",
   "execution_count": 2,
   "metadata": {},
   "outputs": [
    {
     "name": "stdout",
     "output_type": "stream",
     "text": [
      "A cidade de Campinas fez 523 em Janeiro de 2024.\n",
      "A cidade de Hortolândia fez 78 em Janeiro de 2024.\n",
      "A cidade de Americana fez 107 em Janeiro de 2024.\n",
      "A cidade de Indaiatuba fez 196 em Janeiro de 2024.\n"
     ]
    }
   ],
   "source": [
    "vendas_cidades = {\n",
    "    \"Campinas\": 523,\n",
    "    \"Hortolândia\": 78,\n",
    "    \"Americana\": 107,\n",
    "    \"Indaiatuba\": 196\n",
    "}\n",
    "\n",
    "for chave in vendas_cidades:\n",
    "    print(f'A cidade de {chave} fez {vendas_cidades[chave]} em Janeiro de 2024.')\n",
    "\n",
    "# Código SBS\n",
    "# for chave in vendas_cidades:\n",
    "#     cidade_nome = chave\n",
    "#     vendas = vendas_cidades[chave]\n",
    "#     print(f'A cidade {cidade_nome} corresponde a {vendas}')"
   ]
  },
  {
   "cell_type": "markdown",
   "metadata": {},
   "source": [
    "### Situação 3:\n",
    "Adicionar informações em um dicionário existente."
   ]
  },
  {
   "cell_type": "code",
   "execution_count": 3,
   "metadata": {},
   "outputs": [
    {
     "name": "stdout",
     "output_type": "stream",
     "text": [
      "Antes de adicionar um novo valor\n",
      "{'Chave1': 'valor1', 'Chave2': 'valor2'}\n",
      "Depois de adicionar um novo valor\n",
      "{'Chave1': 'valor1', 'Chave2': 'valor2', 'Chave_Nova': 'Valor_Novo'}\n"
     ]
    }
   ],
   "source": [
    "dados = {\n",
    "    \"Chave1\": 'valor1',\n",
    "    \"Chave2\": 'valor2',\n",
    "}\n",
    "\n",
    "# Antes\n",
    "print('Antes de adicionar um novo valor')\n",
    "print(dados)\n",
    "\n",
    "# Adicionar nova chave-valor\n",
    "dados['Chave_Nova'] = 'Valor_Novo'\n",
    "\n",
    "# Depois\n",
    "print('Depois de adicionar um novo valor')\n",
    "print(dados)"
   ]
  },
  {
   "cell_type": "markdown",
   "metadata": {},
   "source": [
    "### Situação 4:\n",
    "\n",
    "Remover uma chave-valor do dicionário."
   ]
  },
  {
   "cell_type": "code",
   "execution_count": 9,
   "metadata": {},
   "outputs": [
    {
     "name": "stdout",
     "output_type": "stream",
     "text": [
      "{'Campinas': 523, 'Hortolândia': 78, 'Americana': 107, 'Indaiatuba': 196}\n"
     ]
    }
   ],
   "source": [
    "dados = {\n",
    "    \"Campinas\": 523,\n",
    "    \"Hortolândia\": 78,\n",
    "    \"Americana\": 107,\n",
    "    \"Indaiatuba\": 196,\n",
    "    \"Recife\": 2219\n",
    "}\n",
    "\n",
    "# método pop() precisa de \n",
    "# uma chave para operar\n",
    "dados.pop('Recife')\n",
    "\n",
    "print(dados)"
   ]
  }
 ],
 "metadata": {
  "kernelspec": {
   "display_name": "Python 3",
   "language": "python",
   "name": "python3"
  },
  "language_info": {
   "codemirror_mode": {
    "name": "ipython",
    "version": 3
   },
   "file_extension": ".py",
   "mimetype": "text/x-python",
   "name": "python",
   "nbconvert_exporter": "python",
   "pygments_lexer": "ipython3",
   "version": "3.12.5"
  }
 },
 "nbformat": 4,
 "nbformat_minor": 2
}
